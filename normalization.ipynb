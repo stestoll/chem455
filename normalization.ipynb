{
 "cells": [
  {
   "cell_type": "markdown",
   "metadata": {},
   "source": [
    "Normalization of a wavefunction\n",
    "==================================="
   ]
  },
  {
   "cell_type": "markdown",
   "metadata": {},
   "source": [
    "This demo shows how a wavefunction is normalized. Change the value of the normalization constant and see how both the wavefunction $\\psi(x)$ and the probability density $|\\psi(x)|^2$ change scale."
   ]
  },
  {
   "cell_type": "markdown",
   "metadata": {},
   "source": [
    "$\n",
    "\\int_{-\\infty}^\\infty\n",
    "|\\psi(x)|^2\n",
    "\\mathrm{d}x\n",
    "= 1\n",
    "$"
   ]
  },
  {
   "cell_type": "markdown",
   "metadata": {},
   "source": [
    "Run the script below by pressing *Shift-Enter*. Use the slider to change the value of the normalization constant and observe how the wavefunction, the probability density, and the integral value change."
   ]
  },
  {
   "cell_type": "code",
   "execution_count": 157,
   "metadata": {
    "jupyter": {
     "source_hidden": true
    }
   },
   "outputs": [
    {
     "data": {
      "application/vnd.jupyter.widget-view+json": {
       "model_id": "958d059798c44651bea441e457248c6b",
       "version_major": 2,
       "version_minor": 0
      },
      "text/plain": [
       "interactive(children=(FloatSlider(value=1.1, continuous_update=False, description='normalization constant $N$'…"
      ]
     },
     "metadata": {},
     "output_type": "display_data"
    }
   ],
   "source": [
    "# Load required libraries\n",
    "import numpy as np\n",
    "import math as m\n",
    "import matplotlib.pyplot as plt\n",
    "import ipywidgets as wg\n",
    "\n",
    "# define function\n",
    "def normalization_fun(N):\n",
    "    \n",
    "    # Calculate wavefunction, probability density, and integral\n",
    "    x = np.linspace(-4,4,401)\n",
    "    psi = N*np.exp(-x**2)*np.sin(x)\n",
    "    probdens = np.abs(psi)**2\n",
    "    integral = np.sum(probdens)*(x[1]-x[0])\n",
    "    \n",
    "    # Plot wavefunction\n",
    "    plt.figure(figsize=(10,4))\n",
    "    plt.subplot(1,2,1)\n",
    "    plt.plot(x,psi,label='$\\psi$')\n",
    "    plt.title(\"$\\psi(x)$\")\n",
    "    plt.grid(alpha=0.5)\n",
    "    plt.xlabel(\"x\")\n",
    "    plt.ylabel(\"wavefunction $\\psi$\")\n",
    "    plt.ylim(-1.1,1.1)\n",
    "    plt.legend()\n",
    "    \n",
    "    # Plot probability density and show value of integral\n",
    "    plt.subplot(1,2,2)\n",
    "    plt.plot(x,probdens,label='$|\\psi(x)|^2$')\n",
    "    plt.fill(x,probdens,alpha=0.4,label=f'area = {integral:0.3f}')\n",
    "    plt.legend()\n",
    "    plt.title(\"$|\\psi(x)|^2$\")\n",
    "    plt.xlabel(\"x\")\n",
    "    plt.ylabel(\"probability density $|\\psi|^2$\")\n",
    "    plt.ylim(-0.05,1.1)\n",
    "    plt.grid(alpha=0.5)\n",
    "    \n",
    "wg.interact(normalization_fun,N=wg.FloatSlider(min=0.6,max=2.5,step=0.001,value=1.1,\n",
    "                                               description='normalization constant $N$',\n",
    "                                               readout_format='.3f',\n",
    "                                               continuous_update=False,\n",
    "                                               style={'description_width':'initial'},\n",
    "                                               layout=wg.Layout(width='700px')));"
   ]
  },
  {
   "cell_type": "code",
   "execution_count": null,
   "metadata": {},
   "outputs": [],
   "source": []
  }
 ],
 "metadata": {
  "kernelspec": {
   "display_name": "Python 3",
   "language": "python",
   "name": "python3"
  },
  "language_info": {
   "codemirror_mode": {
    "name": "ipython",
    "version": 3
   },
   "file_extension": ".py",
   "mimetype": "text/x-python",
   "name": "python",
   "nbconvert_exporter": "python",
   "pygments_lexer": "ipython3",
   "version": "3.7.4"
  }
 },
 "nbformat": 4,
 "nbformat_minor": 4
}
