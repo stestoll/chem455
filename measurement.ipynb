{
 "cells": [
  {
   "cell_type": "markdown",
   "metadata": {},
   "source": [
    "Measurements\n",
    "===================="
   ]
  },
  {
   "cell_type": "markdown",
   "metadata": {},
   "source": [
    "This notebook illustrates the concept of measurement in quantum theory."
   ]
  },
  {
   "cell_type": "code",
   "execution_count": null,
   "metadata": {},
   "outputs": [],
   "source": [
    "# Load required libraries\n",
    "import numpy as np\n",
    "import math as m\n",
    "import matplotlib.pyplot as plt\n",
    "import ipywidgets as wg"
   ]
  },
  {
   "cell_type": "markdown",
   "metadata": {},
   "source": [
    "Continuous observable: Position\n",
    "----------------------------------------"
   ]
  },
  {
   "cell_type": "code",
   "execution_count": null,
   "metadata": {},
   "outputs": [],
   "source": [
    "# Define wavefunction\n",
    "x = np.linspace(-3,3,1001)   # position, nm\n",
    "x0 = 0.5\n",
    "a = 1\n",
    "psi = (a/m.pi)**0.25*np.exp(-a*(x-x0)**2/2)\n",
    "\n",
    "# calculate probabilities\n",
    "probabilities = abs(psi)**2\n",
    "probabilities /= np.sum(probabilities)\n",
    "expval = x0\n",
    "\n",
    "# Simulate a series of measurements, calculate average\n",
    "N = 1000   # number of measurements\n",
    "x_measured = np.random.choice(x,N,p=probabilities)\n",
    "\n",
    "# Calculate cumulative\n",
    "avg = np.cumsum(x_measured) / np.arange(1, N + 1)"
   ]
  },
  {
   "cell_type": "code",
   "execution_count": null,
   "metadata": {},
   "outputs": [],
   "source": [
    "def fg(N):\n",
    "    # Plotting\n",
    "    plt.figure(figsize=(10,4))\n",
    "    plt.subplot(1,2,1)\n",
    "    if N>0:\n",
    "        plt.plot(x_measured[0:N],np.arange(N)+1,'o',label='measurement')\n",
    "        plt.plot(avg[0:N],np.arange(N)+1,'.-',label='average')\n",
    "    plt.axvline(expval,linestyle='--',alpha=0.5,color='#aaaaaa')\n",
    "    plt.ylabel('measurement no.')\n",
    "    plt.xlabel('position (nm)')\n",
    "    plt.title('position measurements')\n",
    "    plt.xlim([min(x),max(x)])\n",
    "    plt.ylim(0,max(9,N+1))\n",
    "\n",
    "    plt.subplot(1,2,2)\n",
    "    plt.plot(x,abs(psi)**2)\n",
    "    if N>0:\n",
    "        plt.hist(x_measured[0:N],bins=50,range=(min(x),max(x)),density=True)\n",
    "    plt.xlabel('position (nm)')\n",
    "    plt.ylabel('probability density (nm$^{-1}$)')\n",
    "    plt.title('$|\\psi^2|$ and measurement statistics')\n",
    "    plt.axvline(expval,linestyle='--',alpha=0.5,color='#aaaaaa')\n",
    "    plt.xlim([min(x),max(x)])\n",
    "\n",
    "wg.interact(fg,N=wg.IntSlider(min=0,max=N,step=1,value=0,\n",
    "                                               description='number of measurements',\n",
    "                                               continuous_update=False,\n",
    "                                               style={'description_width':'initial'},\n",
    "                                               layout=wg.Layout(width='700px')));"
   ]
  },
  {
   "cell_type": "markdown",
   "metadata": {},
   "source": [
    "Discrete observable: Energy\n",
    "---------------------------------"
   ]
  },
  {
   "cell_type": "code",
   "execution_count": null,
   "metadata": {},
   "outputs": [],
   "source": [
    "# Define possible measurement outcomes and their probabilities\n",
    "E = [5,10]               # energies E1 and E2, in eV\n",
    "psi = np.sqrt([0.8,0.2])        # represents psi = sqrt(0.8)*psi1 + sqrt(0.2)*psi2\n",
    "probabilities = abs(psi)**2     # probabilities for obtaining \n",
    "expval = np.sum(probabilities*E)\n",
    "\n",
    "# Simulate a series of measurements\n",
    "N = 100    # number of measurements\n",
    "E_measured = np.random.choice(E,N,p=probabilities)\n",
    "\n",
    "# Calculate the cumulative average\n",
    "avg = np.cumsum(E_measured) / np.arange(1, N + 1)"
   ]
  },
  {
   "cell_type": "code",
   "execution_count": null,
   "metadata": {},
   "outputs": [],
   "source": [
    "# Plotting\n",
    "def ff(N):\n",
    "    plt.figure(figsize=(10,4))\n",
    "    plt.subplot(1,2,1)\n",
    "    if N>0:\n",
    "        plt.plot(E_measured[0:N],np.arange(N)+1,'o',label='measurement')\n",
    "        plt.plot(avg[0:N],np.arange(N)+1,'.-',label='average')\n",
    "    plt.axvline(expval,linestyle='--',alpha=0.5,color='#aaaaaa')\n",
    "    plt.axvline(E[0],alpha=0.5)\n",
    "    plt.axvline(E[1],alpha=0.5)\n",
    "    plt.ylabel('measurement no.')\n",
    "    plt.xlabel('energy (eV)')\n",
    "    plt.title('energy measurements')\n",
    "    plt.subplot(1,2,2)\n",
    "    plt.xlabel('energy (eV)')\n",
    "    plt.ylabel('$|\\psi|^2$ (%)')\n",
    "    plt.title('$|\\psi|^2$ and measurement statistics')\n",
    "    plt.hlines(probabilities[0]*100,E[0]-0.7,E[0]+0.7)\n",
    "    plt.hlines(probabilities[1]*100,E[1]-0.7,E[1]+0.7)\n",
    "    plt.ylim(0,100)\n",
    "    plt.axvline(expval,linestyle='--',alpha=0.5,color='#aaaaaa')\n",
    "    plt.axvline(E[0],alpha=0.5)\n",
    "    plt.axvline(E[1],alpha=0.5)\n",
    "    if N>0:\n",
    "        vals_,counts_ = np.unique(E_measured[0:N],return_counts=True)\n",
    "        prob_ = counts_/np.sum(counts_)\n",
    "        plt.bar(vals_,prob_*100)\n",
    "\n",
    "wg.interact(ff,N=wg.IntSlider(min=0,max=N,step=1,value=0,\n",
    "                                               description='number of measurements',\n",
    "                                               continuous_update=False,\n",
    "                                               style={'description_width':'initial'},\n",
    "                                               layout=wg.Layout(width='700px')));\n"
   ]
  },
  {
   "cell_type": "code",
   "execution_count": null,
   "metadata": {},
   "outputs": [],
   "source": []
  },
  {
   "cell_type": "code",
   "execution_count": null,
   "metadata": {},
   "outputs": [],
   "source": []
  }
 ],
 "metadata": {
  "kernelspec": {
   "name": "Python 3.8.5 64-bit",
   "display_name": "Python 3.8.5 64-bit",
   "metadata": {
    "interpreter": {
     "hash": "8e81d6174cb081d483213be829e7831163670ee6c9fd24781192b6d714da88ab"
    }
   }
  },
  "language_info": {
   "codemirror_mode": {
    "name": "ipython",
    "version": 3
   },
   "file_extension": ".py",
   "mimetype": "text/x-python",
   "name": "python",
   "nbconvert_exporter": "python",
   "pygments_lexer": "ipython3",
   "version": "3.8.5-final"
  }
 },
 "nbformat": 4,
 "nbformat_minor": 2
}