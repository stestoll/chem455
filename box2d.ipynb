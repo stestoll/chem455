{
 "metadata": {
  "language_info": {
   "codemirror_mode": {
    "name": "ipython",
    "version": 3
   },
   "file_extension": ".py",
   "mimetype": "text/x-python",
   "name": "python",
   "nbconvert_exporter": "python",
   "pygments_lexer": "ipython3",
   "version": 3
  },
  "orig_nbformat": 2
 },
 "nbformat": 4,
 "nbformat_minor": 2,
 "cells": [
  {
   "source": [
    "Particle in a 2D box\n",
    "=============================="
   ],
   "cell_type": "markdown",
   "metadata": {}
  },
  {
   "cell_type": "code",
   "execution_count": null,
   "metadata": {},
   "outputs": [],
   "source": [
    "from chem455tools import *\n",
    "import matplotlib.pyplot as plt\n",
    "import matplotlib.lines as lines\n",
    "import ipywidgets as wg\n",
    "import math as m\n",
    "import numpy.matlib"
   ]
  },
  {
   "source": [
    "Energy levels\n",
    "--------------------------------"
   ],
   "cell_type": "markdown",
   "metadata": {}
  },
  {
   "source": [
    "$$ E_{n_x,n_y} = \\frac{h^2}{8m}\\left(\\frac{n_x^2}{a^2}+\\frac{n_y^2}{b^2}\\right) $$"
   ],
   "cell_type": "markdown",
   "metadata": {}
  },
  {
   "cell_type": "code",
   "execution_count": null,
   "metadata": {},
   "outputs": [],
   "source": [
    "def box2d_levels(a,b,Emax):\n",
    "    a = a*1e-9 # m\n",
    "    b = b*1e-9 # m\n",
    "    nmax = 20\n",
    "    nx = np.arange(1,nmax)\n",
    "    ny = np.arange(1,nmax)\n",
    "    nxv,nyv = np.meshgrid(nx,ny)\n",
    "    E = h**2/8/me/eV * (nxv**2/a**2 + nyv**2/b**2)\n",
    "    nx = nxv.flatten()\n",
    "    ny = nyv.flatten()\n",
    "    E = E.flatten()\n",
    "    idx = np.argsort(E)\n",
    "    E = E[idx]\n",
    "    nx = nx[idx]\n",
    "    ny = ny[idx]\n",
    "    xcoord = np.matlib.repmat([1-0.4,1+0.4],np.size(E),1)\n",
    "    Ee = np.matlib.repmat(E,2,1).T\n",
    "    deg = 1\n",
    "    degidx = np.ones(np.shape(E))\n",
    "    maxdeg = 1\n",
    "    for idx,E_ in enumerate(E):\n",
    "        if idx>0:\n",
    "            if m.isclose(E_,E[idx-1]):\n",
    "                deg+=1\n",
    "                xcoord[idx] = np.array([deg-0.4, deg+0.4])\n",
    "            else:\n",
    "                deg = 1\n",
    "            degidx[idx] = deg\n",
    "            if deg>maxdeg:\n",
    "                maxdeg = deg\n",
    "\n",
    "    plt.figure(figsize=(8,8))\n",
    "    plt.plot(xcoord.T,Ee.T,color='royalblue')\n",
    "    plt.ylim([0,Emax])\n",
    "    for idx,E_ in enumerate(E):\n",
    "        if E_<Emax:\n",
    "            plt.text(degidx[idx],E[idx],f\"{nx[idx]},{ny[idx]}\",horizontalalignment='center')\n",
    "    plt.ylabel('energy (eV)')\n",
    "    plt.xlabel('degeneracy')\n",
    "    plt.xticks(range(maxdeg+1))\n",
    "    plt.xlim([0.5,max(maxdeg,4)+0.5])\n",
    "    plt.title(f'all states up to max $n$ = {nmax}')\n",
    "    plt.show()\n",
    "\n",
    "    \n",
    "wg.interact(box2d_levels,\n",
    "            a=wg.FloatSlider(min=0.5,max=4,step=0.1,value=1,\n",
    "                            description='$a$ (nm)',continuous_update=False,\n",
    "                            style={'description_width':'initial'},\n",
    "                            layout=wg.Layout(width='700px')),\n",
    "            b=wg.FloatSlider(min=0.5,max=4,step=0.1,value=1,\n",
    "                            description='$b$ (nm)',continuous_update=False,\n",
    "                            style={'description_width':'initial'},\n",
    "                            layout=wg.Layout(width='700px')),\n",
    "            Emax=wg.IntSlider(min=2,max=100,step=2,value=10,\n",
    "                            description='$E$ max (eV)',continuous_update=False,\n",
    "                            style={'description_width':'initial'},\n",
    "                            layout=wg.Layout(width='700px')),\n",
    "           );"
   ]
  },
  {
   "source": [
    "Wavefunctions\n",
    "---------------------------"
   ],
   "cell_type": "markdown",
   "metadata": {}
  },
  {
   "source": [
    "$$\n",
    "\\psi_{n_x,n_y}(x,y) =\n",
    "\\sqrt{\\frac{4}{ab}}\n",
    "\\sin\\left(n_x\\pi\\frac{x}{a}\\right)\n",
    "\\sin\\left(n_y\\pi\\frac{y}{b}\\right)\n",
    "$$"
   ],
   "cell_type": "markdown",
   "metadata": {}
  },
  {
   "cell_type": "code",
   "execution_count": null,
   "metadata": {},
   "outputs": [],
   "source": [
    "def box2d_psi(nx,ny):\n",
    "    a = 1.0\n",
    "    b = 1.0\n",
    "    x = np.linspace(0,a,301)\n",
    "    y = np.linspace(0,b,301)\n",
    "    psi = np.sqrt(4/a/b)*np.outer(np.sin(nx*m.pi*x/a),np.sin(ny*m.pi*y/b)).T\n",
    "    prob = psi**2\n",
    "    \n",
    "    pcolor = True\n",
    "    \n",
    "    plt.figure(figsize=(12,4))\n",
    "    plt.subplot(1,2,1)\n",
    "    if pcolor:\n",
    "        plt.pcolormesh(x,y,psi,cmap='RdBu')\n",
    "    else:\n",
    "        plt.contour(x,y,psi,cmap=\"RdBu\")\n",
    "    plt.colorbar(label='$\\psi$   (nm$^{-1}$)')\n",
    "    plt.xlabel('$x$ (nm)')\n",
    "    plt.ylabel('$y$ (nm)')\n",
    "    plt.title(f'wavefunction $\\psi_{{n_x,n_y}}$ for $n_x$ = {nx},  $n_y$ = {ny}')\n",
    "    \n",
    "    plt.subplot(1,2,2)\n",
    "    if pcolor:\n",
    "        plt.pcolormesh(x,y,prob,cmap=\"RdBu\")\n",
    "    else:\n",
    "        plt.contour(x,y,prob,cmap='RdBu')\n",
    "    plt.colorbar(label='$|\\psi|^2$   (nm$^{-2}$)')\n",
    "    plt.clim(-np.max(prob),np.max(prob))\n",
    "    plt.title(f'prob. density $|\\psi_{{n_x,n_y}}|^2$ for $n_x$ = {nx},  $n_y$ = {ny}')\n",
    "    plt.xlabel('$x$ (nm)')\n",
    "    plt.ylabel('$y$ (nm)')\n",
    "    \n",
    "wg.interact(box2d_psi,\n",
    "            nx=wg.IntSlider(min=1,max=10,value=1,\n",
    "                            description='$n_x$',continuous_update=False,\n",
    "                            style={'description_width':'initial'},\n",
    "                            layout=wg.Layout(width='700px')),\n",
    "            ny=wg.IntSlider(min=1,max=10,value=1,\n",
    "                            description='$n_y$',continuous_update=False,\n",
    "                            style={'description_width':'initial'},\n",
    "                            layout=wg.Layout(width='700px')),\n",
    "           );"
   ]
  }
 ]
}