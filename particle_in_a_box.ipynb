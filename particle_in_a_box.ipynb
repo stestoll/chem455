{
 "cells": [
  {
   "cell_type": "markdown",
   "metadata": {},
   "source": [
    "Particle in a box\n",
    "============================"
   ]
  },
  {
   "cell_type": "markdown",
   "metadata": {},
   "source": [
    "This demo illustrates the energies, the wavefunctions, and the probability densities of the stationary state of a particle trapped in a one-dimensional box with infinitely tall potential barriers."
   ]
  },
  {
   "cell_type": "code",
   "execution_count": null,
   "metadata": {},
   "outputs": [],
   "source": [
    "from chem455tools import *\n",
    "import matplotlib.pyplot as plt\n",
    "import ipywidgets as wg"
   ]
  },
  {
   "cell_type": "markdown",
   "metadata": {},
   "source": [
    "Energies\n",
    "-------------------"
   ]
  },
  {
   "cell_type": "markdown",
   "metadata": {},
   "source": [
    "$$ E_n = \\frac{h^2}{8ma^2}n^2$$"
   ]
  },
  {
   "cell_type": "code",
   "execution_count": null,
   "metadata": {},
   "outputs": [],
   "source": [
    "def fg(L,n):\n",
    "    x = np.linspace(-L/2,3/2*L,10001)\n",
    "    psi = box_wavefunction(n,x,L)\n",
    "\n",
    "    plt.figure(figsize=(12,4))\n",
    "    plt.subplot(1,2,1), plt.plot(x,psi)\n",
    "    plt.xlabel('position (nm)')\n",
    "    plt.ylabel('wavefunction $\\psi$ (nm$^{-3/2}$)')\n",
    "    plt.axvline(0,color='k',alpha=0.2)\n",
    "    plt.axvline(L,color='k',alpha=0.2)\n",
    "    plt.subplot(1,2,2), plt.plot(x,psi**2)\n",
    "    plt.xlabel('position (nm)')\n",
    "    plt.ylabel('probability density $|\\psi|^2$ (nm$^{-3}$)')\n",
    "    plt.axvline(0,color='k',alpha=0.2)\n",
    "    plt.axvline(L,color='k',alpha=0.2)\n",
    "\n",
    "wg.interact(fg,\n",
    "            L=wg.FloatSlider(min=0.1,max=3,step=0.01,value=1,\n",
    "                            description='box length (nm)',continuous_update=False,\n",
    "                            style={'description_width':'initial'},\n",
    "                            layout=wg.Layout(width='700px')),\n",
    "            n=wg.IntSlider(min=1,max=50,step=1,value=1,\n",
    "                                               description='quantum number',\n",
    "                                               continuous_update=False,\n",
    "                                               style={'description_width':'initial'},\n",
    "                                               layout=wg.Layout(width='700px')));"
   ]
  },
  {
   "cell_type": "markdown",
   "metadata": {},
   "source": [
    "Wavefunctions and probability densities\n",
    "------------------------------"
   ]
  },
  {
   "cell_type": "markdown",
   "metadata": {},
   "source": [
    "$$\\psi_n(x) = \\sqrt{\\frac{2}{a}}\\sin\\left(n\\pi \\frac{x}{a}\\right)$$"
   ]
  },
  {
   "cell_type": "code",
   "execution_count": null,
   "metadata": {},
   "outputs": [],
   "source": [
    "def fg(L):\n",
    "    Emax = 50\n",
    "    c = h**2/8/me/(L*1e-9)**2/e\n",
    "    n = np.arange(1,100)\n",
    "    E = c*n**2\n",
    "    for (E_,n_) in zip(E,n):\n",
    "        plt.axhline(E_,color='k')\n",
    "        if E_<Emax:\n",
    "            plt.text(1,E_,f\" $n$ = {n_}  $E_{{{n_}}}$ = {E_:0.3f} eV\")\n",
    "    plt.ylabel('energy (eV)')\n",
    "    plt.ylim(0,Emax)\n",
    "    plt.xticks([])\n",
    "\n",
    "wg.interact(fg,\n",
    "            L=wg.FloatSlider(min=0.1,max=3,step=0.02,value=1,\n",
    "                            description='box length (nm)',continuous_update=False,\n",
    "                            style={'description_width':'initial'},\n",
    "                            layout=wg.Layout(width='700px')));"
   ]
  },
  {
   "cell_type": "code",
   "execution_count": null,
   "metadata": {},
   "outputs": [],
   "source": []
  }
 ],
 "metadata": {
  "kernelspec": {
   "display_name": "Python 3",
   "language": "python",
   "name": "python3"
  },
  "language_info": {
   "codemirror_mode": {
    "name": "ipython",
    "version": 3
   },
   "file_extension": ".py",
   "mimetype": "text/x-python",
   "name": "python",
   "nbconvert_exporter": "python",
   "pygments_lexer": "ipython3",
   "version": "3.8.5"
  }
 },
 "nbformat": 4,
 "nbformat_minor": 2
}
